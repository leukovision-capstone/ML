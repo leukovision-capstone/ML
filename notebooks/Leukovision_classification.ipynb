{
  "cells": [
    {
      "cell_type": "code",
      "source": [
        "! pip install -q kaggle"
      ],
      "metadata": {
        "id": "TPtdA5qyqDF6"
      },
      "execution_count": 1,
      "outputs": []
    },
    {
      "cell_type": "code",
      "source": [
        "from google.colab import files\n",
        "\n",
        "files.upload()"
      ],
      "metadata": {
        "colab": {
          "base_uri": "https://localhost:8080/",
          "height": 112
        },
        "id": "XmEPrF9zqPmY",
        "outputId": "8d49ceb9-ecf0-4d3c-e239-1579c7bc8228"
      },
      "execution_count": 2,
      "outputs": [
        {
          "output_type": "display_data",
          "data": {
            "text/plain": [
              "<IPython.core.display.HTML object>"
            ],
            "text/html": [
              "\n",
              "     <input type=\"file\" id=\"files-da433c0f-88d9-427d-925a-351168068b0d\" name=\"files[]\" multiple disabled\n",
              "        style=\"border:none\" />\n",
              "     <output id=\"result-da433c0f-88d9-427d-925a-351168068b0d\">\n",
              "      Upload widget is only available when the cell has been executed in the\n",
              "      current browser session. Please rerun this cell to enable.\n",
              "      </output>\n",
              "      <script>// Copyright 2017 Google LLC\n",
              "//\n",
              "// Licensed under the Apache License, Version 2.0 (the \"License\");\n",
              "// you may not use this file except in compliance with the License.\n",
              "// You may obtain a copy of the License at\n",
              "//\n",
              "//      http://www.apache.org/licenses/LICENSE-2.0\n",
              "//\n",
              "// Unless required by applicable law or agreed to in writing, software\n",
              "// distributed under the License is distributed on an \"AS IS\" BASIS,\n",
              "// WITHOUT WARRANTIES OR CONDITIONS OF ANY KIND, either express or implied.\n",
              "// See the License for the specific language governing permissions and\n",
              "// limitations under the License.\n",
              "\n",
              "/**\n",
              " * @fileoverview Helpers for google.colab Python module.\n",
              " */\n",
              "(function(scope) {\n",
              "function span(text, styleAttributes = {}) {\n",
              "  const element = document.createElement('span');\n",
              "  element.textContent = text;\n",
              "  for (const key of Object.keys(styleAttributes)) {\n",
              "    element.style[key] = styleAttributes[key];\n",
              "  }\n",
              "  return element;\n",
              "}\n",
              "\n",
              "// Max number of bytes which will be uploaded at a time.\n",
              "const MAX_PAYLOAD_SIZE = 100 * 1024;\n",
              "\n",
              "function _uploadFiles(inputId, outputId) {\n",
              "  const steps = uploadFilesStep(inputId, outputId);\n",
              "  const outputElement = document.getElementById(outputId);\n",
              "  // Cache steps on the outputElement to make it available for the next call\n",
              "  // to uploadFilesContinue from Python.\n",
              "  outputElement.steps = steps;\n",
              "\n",
              "  return _uploadFilesContinue(outputId);\n",
              "}\n",
              "\n",
              "// This is roughly an async generator (not supported in the browser yet),\n",
              "// where there are multiple asynchronous steps and the Python side is going\n",
              "// to poll for completion of each step.\n",
              "// This uses a Promise to block the python side on completion of each step,\n",
              "// then passes the result of the previous step as the input to the next step.\n",
              "function _uploadFilesContinue(outputId) {\n",
              "  const outputElement = document.getElementById(outputId);\n",
              "  const steps = outputElement.steps;\n",
              "\n",
              "  const next = steps.next(outputElement.lastPromiseValue);\n",
              "  return Promise.resolve(next.value.promise).then((value) => {\n",
              "    // Cache the last promise value to make it available to the next\n",
              "    // step of the generator.\n",
              "    outputElement.lastPromiseValue = value;\n",
              "    return next.value.response;\n",
              "  });\n",
              "}\n",
              "\n",
              "/**\n",
              " * Generator function which is called between each async step of the upload\n",
              " * process.\n",
              " * @param {string} inputId Element ID of the input file picker element.\n",
              " * @param {string} outputId Element ID of the output display.\n",
              " * @return {!Iterable<!Object>} Iterable of next steps.\n",
              " */\n",
              "function* uploadFilesStep(inputId, outputId) {\n",
              "  const inputElement = document.getElementById(inputId);\n",
              "  inputElement.disabled = false;\n",
              "\n",
              "  const outputElement = document.getElementById(outputId);\n",
              "  outputElement.innerHTML = '';\n",
              "\n",
              "  const pickedPromise = new Promise((resolve) => {\n",
              "    inputElement.addEventListener('change', (e) => {\n",
              "      resolve(e.target.files);\n",
              "    });\n",
              "  });\n",
              "\n",
              "  const cancel = document.createElement('button');\n",
              "  inputElement.parentElement.appendChild(cancel);\n",
              "  cancel.textContent = 'Cancel upload';\n",
              "  const cancelPromise = new Promise((resolve) => {\n",
              "    cancel.onclick = () => {\n",
              "      resolve(null);\n",
              "    };\n",
              "  });\n",
              "\n",
              "  // Wait for the user to pick the files.\n",
              "  const files = yield {\n",
              "    promise: Promise.race([pickedPromise, cancelPromise]),\n",
              "    response: {\n",
              "      action: 'starting',\n",
              "    }\n",
              "  };\n",
              "\n",
              "  cancel.remove();\n",
              "\n",
              "  // Disable the input element since further picks are not allowed.\n",
              "  inputElement.disabled = true;\n",
              "\n",
              "  if (!files) {\n",
              "    return {\n",
              "      response: {\n",
              "        action: 'complete',\n",
              "      }\n",
              "    };\n",
              "  }\n",
              "\n",
              "  for (const file of files) {\n",
              "    const li = document.createElement('li');\n",
              "    li.append(span(file.name, {fontWeight: 'bold'}));\n",
              "    li.append(span(\n",
              "        `(${file.type || 'n/a'}) - ${file.size} bytes, ` +\n",
              "        `last modified: ${\n",
              "            file.lastModifiedDate ? file.lastModifiedDate.toLocaleDateString() :\n",
              "                                    'n/a'} - `));\n",
              "    const percent = span('0% done');\n",
              "    li.appendChild(percent);\n",
              "\n",
              "    outputElement.appendChild(li);\n",
              "\n",
              "    const fileDataPromise = new Promise((resolve) => {\n",
              "      const reader = new FileReader();\n",
              "      reader.onload = (e) => {\n",
              "        resolve(e.target.result);\n",
              "      };\n",
              "      reader.readAsArrayBuffer(file);\n",
              "    });\n",
              "    // Wait for the data to be ready.\n",
              "    let fileData = yield {\n",
              "      promise: fileDataPromise,\n",
              "      response: {\n",
              "        action: 'continue',\n",
              "      }\n",
              "    };\n",
              "\n",
              "    // Use a chunked sending to avoid message size limits. See b/62115660.\n",
              "    let position = 0;\n",
              "    do {\n",
              "      const length = Math.min(fileData.byteLength - position, MAX_PAYLOAD_SIZE);\n",
              "      const chunk = new Uint8Array(fileData, position, length);\n",
              "      position += length;\n",
              "\n",
              "      const base64 = btoa(String.fromCharCode.apply(null, chunk));\n",
              "      yield {\n",
              "        response: {\n",
              "          action: 'append',\n",
              "          file: file.name,\n",
              "          data: base64,\n",
              "        },\n",
              "      };\n",
              "\n",
              "      let percentDone = fileData.byteLength === 0 ?\n",
              "          100 :\n",
              "          Math.round((position / fileData.byteLength) * 100);\n",
              "      percent.textContent = `${percentDone}% done`;\n",
              "\n",
              "    } while (position < fileData.byteLength);\n",
              "  }\n",
              "\n",
              "  // All done.\n",
              "  yield {\n",
              "    response: {\n",
              "      action: 'complete',\n",
              "    }\n",
              "  };\n",
              "}\n",
              "\n",
              "scope.google = scope.google || {};\n",
              "scope.google.colab = scope.google.colab || {};\n",
              "scope.google.colab._files = {\n",
              "  _uploadFiles,\n",
              "  _uploadFilesContinue,\n",
              "};\n",
              "})(self);\n",
              "</script> "
            ]
          },
          "metadata": {}
        },
        {
          "output_type": "stream",
          "name": "stdout",
          "text": [
            "Saving kaggle.json to kaggle.json\n"
          ]
        },
        {
          "output_type": "execute_result",
          "data": {
            "text/plain": [
              "{'kaggle.json': b'{\"username\":\"[REDACTED]\",\"key\":\"[REDACTED]\"}'}"
            ]
          },
          "metadata": {},
          "execution_count": 2
        }
      ]
    },
    {
      "cell_type": "code",
      "source": [
        "! mkdir ~/.kaggle\n",
        "\n",
        "! cp kaggle.json ~/.kaggle/"
      ],
      "metadata": {
        "id": "W-KYWJ9JqWgG"
      },
      "execution_count": 3,
      "outputs": []
    },
    {
      "cell_type": "code",
      "source": [
        "! chmod 600 ~/.kaggle/kaggle.json"
      ],
      "metadata": {
        "id": "WHloFY_kqbXB"
      },
      "execution_count": 4,
      "outputs": []
    },
    {
      "cell_type": "code",
      "execution_count": 5,
      "metadata": {
        "cleaned": true,
        "colab": {
          "base_uri": "https://localhost:8080/"
        },
        "id": "aIr0xCGr_25C",
        "outputId": "b0d583e1-aad5-4e20-9957-fc59ea445d78"
      },
      "outputs": [
        {
          "output_type": "stream",
          "name": "stdout",
          "text": [
            "Dataset URL: https://www.kaggle.com/datasets/mohammadamireshraghi/blood-cell-cancer-all-4class\n",
            "License(s): Attribution-NonCommercial 4.0 International (CC BY-NC 4.0)\n",
            "Downloading blood-cell-cancer-all-4class.zip to /content\n",
            "100% 1.68G/1.68G [01:16<00:00, 24.1MB/s]\n",
            "100% 1.68G/1.68G [01:16<00:00, 23.7MB/s]\n"
          ]
        }
      ],
      "source": [
        "! kaggle datasets download -d 'mohammadamireshraghi/blood-cell-cancer-all-4class'"
      ]
    },
    {
      "cell_type": "code",
      "execution_count": 6,
      "metadata": {
        "cleaned": true,
        "colab": {
          "base_uri": "https://localhost:8080/"
        },
        "id": "WwiZPSqk76JB",
        "outputId": "29a1e2fa-e1f6-42b7-9380-656a0ef7b7e3"
      },
      "outputs": [
        {
          "output_type": "stream",
          "name": "stdout",
          "text": [
            "Dataset URL: https://www.kaggle.com/datasets/mehradaria/leukemia\n",
            "License(s): ODbL-1.0\n",
            "Downloading leukemia.zip to /content\n",
            "100% 110M/110M [00:06<00:00, 22.3MB/s]\n",
            "100% 110M/110M [00:06<00:00, 19.2MB/s]\n"
          ]
        }
      ],
      "source": [
        "! kaggle datasets download -d 'mehradaria/leukemia'"
      ]
    },
    {
      "cell_type": "code",
      "execution_count": 7,
      "metadata": {
        "cleaned": true,
        "colab": {
          "base_uri": "https://localhost:8080/"
        },
        "id": "SO8bsVC-0yxk",
        "outputId": "580e54d8-8c3a-4084-9b16-d0b5ff9809c5"
      },
      "outputs": [
        {
          "output_type": "stream",
          "name": "stdout",
          "text": [
            "'Blood cell Cancer [ALL]'\n",
            "Original  Segmented\n"
          ]
        }
      ],
      "source": [
        "import zipfile\n",
        "\n",
        "# Extract the downloaded datasets\n",
        "with zipfile.ZipFile('blood-cell-cancer-all-4class.zip', 'r') as zip_ref:\n",
        "    zip_ref.extractall('blood-cell-cancer-all-4class')\n",
        "\n",
        "with zipfile.ZipFile('leukemia.zip', 'r') as zip_ref:\n",
        "    zip_ref.extractall('leukemia')\n",
        "\n",
        "# Now you can access the extracted files in the respective folders\n",
        "# Example: to list files in the blood cell cancer dataset\n",
        "!ls blood-cell-cancer-all-4class\n",
        "!ls leukemia"
      ]
    },
    {
      "cell_type": "code",
      "execution_count": 8,
      "metadata": {
        "cleaned": true,
        "id": "_mxU2dBDAzde"
      },
      "outputs": [],
      "source": [
        "import numpy as np\n",
        "import os\n",
        "import cv2\n",
        "import matplotlib.pyplot as plt\n",
        "from sklearn.metrics import classification_report, roc_auc_score\n",
        "from tensorflow.keras.preprocessing.image import ImageDataGenerator, load_img, img_to_array\n",
        "from tensorflow.keras.models import Model\n",
        "from tensorflow.keras.layers import Input, GlobalAveragePooling2D, Dense, Dropout, BatchNormalization\n",
        "from tensorflow.keras.optimizers import Adam\n",
        "from tensorflow.keras.callbacks import ModelCheckpoint, EarlyStopping, ReduceLROnPlateau, CSVLogger, LearningRateScheduler\n",
        "from tensorflow.keras.applications import MobileNet\n",
        "from tensorflow.keras import regularizers\n",
        "import shutil"
      ]
    },
    {
      "cell_type": "code",
      "execution_count": 9,
      "metadata": {
        "cleaned": true,
        "colab": {
          "base_uri": "https://localhost:8080/"
        },
        "id": "OHCL9KmZ564g",
        "outputId": "fda25823-8b70-4dcd-86cf-26a89b75064d"
      },
      "outputs": [
        {
          "output_type": "stream",
          "name": "stdout",
          "text": [
            "Merged dataset created at: merged_dataset\n",
            "                                          image_path   label\n",
            "0  merged_dataset/Benign/BloodCancer_Benign_Snap_...  Benign\n",
            "1  merged_dataset/Benign/Leukemia_Benign_WBC-Beni...  Benign\n",
            "2  merged_dataset/Benign/Leukemia_Benign_WBC-Beni...  Benign\n",
            "3  merged_dataset/Benign/BloodCancer_Benign_Snap_...  Benign\n",
            "4  merged_dataset/Benign/Leukemia_Benign_WBC-Beni...  Benign\n",
            "label\n",
            "Early_Malignant_early_Pre-B    1964\n",
            "Pre_Malignant_Pro-B            1759\n",
            "Pro_Malignant_Pro-B            1600\n",
            "Benign                         1016\n",
            "Name: count, dtype: int64\n"
          ]
        }
      ],
      "source": [
        "# Define source and destination directories\n",
        "leukemia_dir = 'leukemia/Original'\n",
        "blood_cancer_dir = 'blood-cell-cancer-all-4class/Blood cell Cancer [ALL]'\n",
        "merged_dir = 'merged_dataset'\n",
        "\n",
        "# Create the merged directory if it doesn't exist\n",
        "if not os.path.exists(merged_dir):\n",
        "    os.makedirs(merged_dir)\n",
        "\n",
        "# Function to copy files and rename them based on class\n",
        "def copy_and_rename(source_dir, dest_dir, class_name, prefix):\n",
        "    # Ensure the destination class folder exists (creating one if not)\n",
        "    class_dir = os.path.join(dest_dir, class_name)\n",
        "    if not os.path.exists(class_dir):\n",
        "        os.makedirs(class_dir)\n",
        "\n",
        "    # Copy and rename files\n",
        "    for filename in os.listdir(source_dir):\n",
        "        if filename.lower().endswith(('.jpg', '.jpeg', '.png')):  # Check if it's an image file\n",
        "            source_path = os.path.join(source_dir, filename)\n",
        "            dest_filename = f\"{prefix}_{class_name}_{filename}\"\n",
        "            dest_path = os.path.join(class_dir, dest_filename)\n",
        "            shutil.copy2(source_path, dest_path)  # Copy the file and preserve metadata\n",
        "\n",
        "# Combining Early and Malignant_early_Pre-B into one folder\n",
        "copy_and_rename(os.path.join(leukemia_dir, 'Early'), merged_dir, 'Early_Malignant_early_Pre-B', 'Leukemia')\n",
        "copy_and_rename(os.path.join(blood_cancer_dir, '[Malignant] early Pre-B'), merged_dir, 'Early_Malignant_early_Pre-B', 'BloodCancer')\n",
        "\n",
        "# Combining Pre and Malignant_Pro-B into one folder\n",
        "copy_and_rename(os.path.join(leukemia_dir, 'Pre'), merged_dir, 'Pre_Malignant_Pro-B', 'Leukemia')\n",
        "copy_and_rename(os.path.join(blood_cancer_dir, '[Malignant] Pro-B'), merged_dir, 'Pre_Malignant_Pro-B', 'BloodCancer')\n",
        "\n",
        "# Combining Pro and Malignant_Pro-B into one folder\n",
        "copy_and_rename(os.path.join(leukemia_dir, 'Pro'), merged_dir, 'Pro_Malignant_Pro-B', 'Leukemia')\n",
        "copy_and_rename(os.path.join(blood_cancer_dir, '[Malignant] Pro-B'), merged_dir, 'Pro_Malignant_Pro-B', 'BloodCancer')\n",
        "\n",
        "# Combine Benign from both datasets into one folder\n",
        "copy_and_rename(os.path.join(leukemia_dir, 'Benign'), merged_dir, 'Benign', 'Leukemia')\n",
        "copy_and_rename(os.path.join(blood_cancer_dir, 'Benign'), merged_dir, 'Benign', 'BloodCancer')\n",
        "\n",
        "# Print merged dataset location\n",
        "print(f\"Merged dataset created at: {merged_dir}\")\n",
        "\n",
        "# Create a dataframe with image paths and labels\n",
        "import pandas as pd\n",
        "\n",
        "image_paths = []\n",
        "labels = []\n",
        "for class_name in os.listdir(merged_dir):\n",
        "    class_dir = os.path.join(merged_dir, class_name)\n",
        "    if os.path.isdir(class_dir):  # Only process subdirectories (labels)\n",
        "        for filename in os.listdir(class_dir):\n",
        "            if filename.lower().endswith(('.jpg', '.jpeg', '.png')):\n",
        "                image_paths.append(os.path.join(class_dir, filename))\n",
        "                labels.append(class_name)\n",
        "\n",
        "df = pd.DataFrame({'image_path': image_paths, 'label': labels})\n",
        "print(df.head())\n",
        "print(df.label.value_counts())"
      ]
    },
    {
      "cell_type": "code",
      "execution_count": 10,
      "metadata": {
        "cleaned": true,
        "id": "f1TwMPEnEOes"
      },
      "outputs": [],
      "source": [
        "class ALLDetectionPipeline:\n",
        "    def __init__(self, data_dir, image_size=(224, 224), batch_size=16):\n",
        "        self.data_dir = data_dir\n",
        "        self.image_size = image_size\n",
        "        self.batch_size = batch_size\n",
        "        self.train_generator = None\n",
        "        self.validation_generator = None\n",
        "        self.model = None\n",
        "        self.history = None\n",
        "\n",
        "    def prepare_data(self, validation_split=0.2):\n",
        "        \"\"\"Prepare training and validation data with augmentation.\"\"\"\n",
        "        train_datagen = ImageDataGenerator(\n",
        "            rescale=1./255,\n",
        "            rotation_range=20,\n",
        "            width_shift_range=0.05,\n",
        "            height_shift_range=0.05,\n",
        "            shear_range=0.1,\n",
        "            zoom_range=0.1,\n",
        "            horizontal_flip=True,\n",
        "            vertical_flip=True,\n",
        "            brightness_range=(0.8, 1.2),\n",
        "            channel_shift_range=30,\n",
        "            fill_mode='nearest',\n",
        "            validation_split=validation_split\n",
        "        )\n",
        "\n",
        "        val_datagen = ImageDataGenerator(rescale=1./255, validation_split=validation_split)\n",
        "\n",
        "        self.train_generator = train_datagen.flow_from_directory(\n",
        "            self.data_dir, target_size=self.image_size, batch_size=self.batch_size,\n",
        "            class_mode='categorical', subset='training', shuffle=True, seed=42\n",
        "        )\n",
        "        self.validation_generator = val_datagen.flow_from_directory(\n",
        "            self.data_dir, target_size=self.image_size, batch_size=self.batch_size,\n",
        "            class_mode='categorical', subset='validation', shuffle=False, seed=42\n",
        "        )\n",
        "        self.class_indices = {v: k for k, v in self.train_generator.class_indices.items()}\n",
        "\n",
        "    def build_model(self, dropout_rate=0.3):\n",
        "        \"\"\"Build classification model using MobileNet with fine-tuning.\"\"\"\n",
        "        input_tensor = Input(shape=(*self.image_size, 3))\n",
        "\n",
        "        # Load pre-trained MobileNet\n",
        "        base_model = MobileNet(weights='imagenet', include_top=False, input_tensor=input_tensor)\n",
        "        base_model.trainable = True  # Unfreeze layers for fine-tuning\n",
        "\n",
        "        for layer in base_model.layers[:-10]:  # Unfreeze selected layers\n",
        "            layer.trainable = False\n",
        "\n",
        "        # Add classification head\n",
        "        x = GlobalAveragePooling2D()(base_model.output)\n",
        "        x = Dense(256, activation='relu', kernel_regularizer=regularizers.l2(0.001))(x)\n",
        "        x = BatchNormalization()(x)\n",
        "        x = Dropout(0.4)(x)\n",
        "        output = Dense(self.train_generator.num_classes, activation='softmax')(x)\n",
        "\n",
        "        # Build and compile the model\n",
        "        self.model = Model(inputs=input_tensor, outputs=output)\n",
        "        self.model.compile(\n",
        "            optimizer=Adam(learning_rate=1e-4),  # Fine-tuning learning rate\n",
        "            loss='categorical_crossentropy',\n",
        "            metrics=['accuracy']\n",
        "        )\n",
        "\n",
        "    def train_model(self, epochs=20):\n",
        "        \"\"\"Train the classification model.\"\"\"\n",
        "        class_weights = {i: len(self.train_generator.classes) /\n",
        "                         (self.train_generator.num_classes * np.sum(self.train_generator.classes == i))\n",
        "                         for i in range(self.train_generator.num_classes)}\n",
        "\n",
        "        callbacks = [\n",
        "            ModelCheckpoint('model_leukovision.keras', monitor='val_accuracy', save_best_only=True, mode='max'),\n",
        "            EarlyStopping(monitor='val_loss', patience=10, restore_best_weights=True),\n",
        "            ReduceLROnPlateau(monitor='val_loss', factor=0.7, patience=3, min_lr=1e-5),\n",
        "            CSVLogger('training_log.csv'),\n",
        "            LearningRateScheduler(lambda epoch, lr: lr * 0.9 if epoch > 5 else lr)\n",
        "        ]\n",
        "\n",
        "        print(\"Starting model training...\")\n",
        "        try:\n",
        "            self.history = self.model.fit(\n",
        "                self.train_generator,\n",
        "                validation_data=self.validation_generator,\n",
        "                epochs=epochs,\n",
        "                callbacks=callbacks,\n",
        "                class_weight=class_weights,\n",
        "                verbose=2\n",
        "            )\n",
        "            print(\"Training logs:\", self.history.history)\n",
        "        except Exception as e:\n",
        "            print(\"Error during training:\", e)\n",
        "\n",
        "    def evaluate_model(self):\n",
        "        \"\"\"Evaluate the model and generate metrics.\"\"\"\n",
        "        y_true = self.validation_generator.classes\n",
        "        y_pred = self.model.predict(self.validation_generator)\n",
        "\n",
        "        # Classification Report\n",
        "        print(classification_report(y_true, y_pred.argmax(axis=1)))\n",
        "\n",
        "        # ROC-AUC Score\n",
        "        try:\n",
        "            roc_auc = roc_auc_score(y_true, y_pred, multi_class=\"ovr\")\n",
        "            print(f\"ROC-AUC Score: {roc_auc}\")\n",
        "        except ValueError as e:\n",
        "            print(f\"ROC-AUC could not be computed: {e}\")\n",
        "\n",
        "    def visualize_training(self):\n",
        "        \"\"\"Visualize training and validation accuracy/loss.\"\"\"\n",
        "        if not self.history:\n",
        "            print(\"No training history found.\")\n",
        "            return\n",
        "\n",
        "        # Plot accuracy\n",
        "        plt.figure(figsize=(12, 5))\n",
        "\n",
        "        plt.subplot(1, 2, 1)\n",
        "        plt.plot(self.history.history['accuracy'], label='Train Accuracy')\n",
        "        plt.plot(self.history.history['val_accuracy'], label='Validation Accuracy')\n",
        "        plt.title('Model Accuracy')\n",
        "        plt.xlabel('Epochs')\n",
        "        plt.ylabel('Accuracy')\n",
        "        plt.legend()\n",
        "\n",
        "        # Plot loss\n",
        "        plt.subplot(1, 2, 2)\n",
        "        plt.plot(self.history.history['loss'], label='Train Loss')\n",
        "        plt.plot(self.history.history['val_loss'], label='Validation Loss')\n",
        "        plt.title('Model Loss')\n",
        "        plt.xlabel('Epochs')\n",
        "        plt.ylabel('Loss')\n",
        "        plt.legend()\n",
        "\n",
        "        plt.tight_layout()\n",
        "        plt.show()\n",
        "\n",
        "    def predict_image(self, img_path):\n",
        "        \"\"\"Predict a single image and display results.\"\"\"\n",
        "        img = load_img(img_path, target_size=self.image_size)\n",
        "        img_array = img_to_array(img) / 255.0\n",
        "        img_array = np.expand_dims(img_array, axis=0)\n",
        "\n",
        "        predictions = self.model.predict(img_array)\n",
        "        predicted_class_index = np.argmax(predictions)\n",
        "        predicted_class = self.class_indices[predicted_class_index]\n",
        "        confidence = predictions[0][predicted_class_index]\n",
        "\n",
        "        plt.imshow(img)\n",
        "        plt.axis('off')\n",
        "        plt.title(f\"Predicted: {predicted_class}\\nConfidence: {confidence:.2f}\")\n",
        "        plt.show()\n",
        "\n",
        "        return predicted_class, confidence"
      ]
    },
    {
      "cell_type": "code",
      "execution_count": 11,
      "metadata": {
        "cleaned": true,
        "id": "yjUHzXvWMM6V"
      },
      "outputs": [],
      "source": [
        "# Instansiasi pipeline\n",
        "data_dir = '/content/merged_dataset'\n",
        "pipeline = ALLDetectionPipeline(data_dir)"
      ]
    },
    {
      "cell_type": "code",
      "source": [
        "pipeline.prepare_data()"
      ],
      "metadata": {
        "colab": {
          "base_uri": "https://localhost:8080/"
        },
        "id": "jXFOWryaHCO0",
        "outputId": "fc449fd8-c5b3-412d-cb91-988719d4dccb"
      },
      "execution_count": 12,
      "outputs": [
        {
          "output_type": "stream",
          "name": "stdout",
          "text": [
            "Found 5073 images belonging to 4 classes.\n",
            "Found 1266 images belonging to 4 classes.\n"
          ]
        }
      ]
    },
    {
      "cell_type": "code",
      "source": [
        "pipeline.build_model()"
      ],
      "metadata": {
        "colab": {
          "base_uri": "https://localhost:8080/"
        },
        "id": "9ZwAQMGEHFK1",
        "outputId": "f754b389-dfda-482e-e2fa-ee831c3f0c40"
      },
      "execution_count": 13,
      "outputs": [
        {
          "output_type": "stream",
          "name": "stderr",
          "text": [
            "<ipython-input-10-810208a0d377>:45: UserWarning: `input_shape` is undefined or non-square, or `rows` is not in [128, 160, 192, 224]. Weights for input shape (224, 224) will be loaded as the default.\n",
            "  base_model = MobileNet(weights='imagenet', include_top=False, input_tensor=input_tensor)\n"
          ]
        },
        {
          "output_type": "stream",
          "name": "stdout",
          "text": [
            "Downloading data from https://storage.googleapis.com/tensorflow/keras-applications/mobilenet/mobilenet_1_0_224_tf_no_top.h5\n",
            "\u001b[1m17225924/17225924\u001b[0m \u001b[32m━━━━━━━━━━━━━━━━━━━━\u001b[0m\u001b[37m\u001b[0m \u001b[1m2s\u001b[0m 0us/step\n"
          ]
        }
      ]
    },
    {
      "cell_type": "code",
      "source": [
        "pipeline.train_model(epochs=20)"
      ],
      "metadata": {
        "colab": {
          "base_uri": "https://localhost:8080/"
        },
        "id": "_5y4btGtHJ6W",
        "outputId": "fadd54d0-2786-48d0-d5b6-3cf1f8c428e1"
      },
      "execution_count": 14,
      "outputs": [
        {
          "output_type": "stream",
          "name": "stdout",
          "text": [
            "Starting model training...\n",
            "Epoch 1/20\n"
          ]
        },
        {
          "output_type": "stream",
          "name": "stderr",
          "text": [
            "/usr/local/lib/python3.10/dist-packages/keras/src/trainers/data_adapters/py_dataset_adapter.py:122: UserWarning: Your `PyDataset` class should call `super().__init__(**kwargs)` in its constructor. `**kwargs` can include `workers`, `use_multiprocessing`, `max_queue_size`. Do not pass these arguments to `fit()`, as they will be ignored.\n",
            "  self._warn_if_super_not_called()\n"
          ]
        },
        {
          "output_type": "stream",
          "name": "stdout",
          "text": [
            "318/318 - 123s - 387ms/step - accuracy: 0.7538 - loss: 1.0457 - val_accuracy: 0.7070 - val_loss: 1.8701 - learning_rate: 1.0000e-04\n",
            "Epoch 2/20\n",
            "318/318 - 104s - 327ms/step - accuracy: 0.8224 - loss: 0.8314 - val_accuracy: 0.5308 - val_loss: 1.6799 - learning_rate: 1.0000e-04\n",
            "Epoch 3/20\n",
            "318/318 - 103s - 325ms/step - accuracy: 0.8488 - loss: 0.7522 - val_accuracy: 0.6856 - val_loss: 1.2132 - learning_rate: 1.0000e-04\n",
            "Epoch 4/20\n",
            "318/318 - 106s - 334ms/step - accuracy: 0.8500 - loss: 0.7351 - val_accuracy: 0.6983 - val_loss: 1.4196 - learning_rate: 1.0000e-04\n",
            "Epoch 5/20\n",
            "318/318 - 103s - 324ms/step - accuracy: 0.8585 - loss: 0.6988 - val_accuracy: 0.6738 - val_loss: 1.5567 - learning_rate: 1.0000e-04\n",
            "Epoch 6/20\n",
            "318/318 - 143s - 449ms/step - accuracy: 0.8681 - loss: 0.6729 - val_accuracy: 0.7117 - val_loss: 1.8974 - learning_rate: 7.0000e-05\n",
            "Epoch 7/20\n",
            "318/318 - 104s - 326ms/step - accuracy: 0.8736 - loss: 0.6526 - val_accuracy: 0.7077 - val_loss: 1.2519 - learning_rate: 6.3000e-05\n",
            "Epoch 8/20\n",
            "318/318 - 103s - 323ms/step - accuracy: 0.8717 - loss: 0.6332 - val_accuracy: 0.7267 - val_loss: 1.1664 - learning_rate: 5.6700e-05\n",
            "Epoch 9/20\n",
            "318/318 - 104s - 328ms/step - accuracy: 0.8756 - loss: 0.6252 - val_accuracy: 0.7180 - val_loss: 1.0809 - learning_rate: 5.1030e-05\n",
            "Epoch 10/20\n",
            "318/318 - 108s - 340ms/step - accuracy: 0.8792 - loss: 0.6094 - val_accuracy: 0.7180 - val_loss: 1.3121 - learning_rate: 4.5927e-05\n",
            "Epoch 11/20\n",
            "318/318 - 104s - 327ms/step - accuracy: 0.8782 - loss: 0.6132 - val_accuracy: 0.7172 - val_loss: 1.2757 - learning_rate: 4.1334e-05\n",
            "Epoch 12/20\n",
            "318/318 - 109s - 342ms/step - accuracy: 0.8782 - loss: 0.6084 - val_accuracy: 0.7235 - val_loss: 1.0172 - learning_rate: 3.7201e-05\n",
            "Epoch 13/20\n",
            "318/318 - 136s - 428ms/step - accuracy: 0.8774 - loss: 0.5977 - val_accuracy: 0.7196 - val_loss: 1.1464 - learning_rate: 3.3481e-05\n",
            "Epoch 14/20\n",
            "318/318 - 142s - 446ms/step - accuracy: 0.8861 - loss: 0.5842 - val_accuracy: 0.7188 - val_loss: 1.2473 - learning_rate: 3.0133e-05\n",
            "Epoch 15/20\n",
            "318/318 - 104s - 328ms/step - accuracy: 0.8815 - loss: 0.5772 - val_accuracy: 0.7251 - val_loss: 0.9827 - learning_rate: 2.7119e-05\n",
            "Epoch 16/20\n",
            "318/318 - 141s - 444ms/step - accuracy: 0.8847 - loss: 0.5750 - val_accuracy: 0.7220 - val_loss: 1.1273 - learning_rate: 2.4407e-05\n",
            "Epoch 17/20\n",
            "318/318 - 141s - 443ms/step - accuracy: 0.8815 - loss: 0.5685 - val_accuracy: 0.7204 - val_loss: 0.9693 - learning_rate: 2.1967e-05\n",
            "Epoch 18/20\n",
            "318/318 - 143s - 450ms/step - accuracy: 0.8874 - loss: 0.5626 - val_accuracy: 0.7196 - val_loss: 1.3032 - learning_rate: 1.9770e-05\n",
            "Epoch 19/20\n",
            "318/318 - 106s - 333ms/step - accuracy: 0.8888 - loss: 0.5570 - val_accuracy: 0.7196 - val_loss: 1.4184 - learning_rate: 1.7793e-05\n",
            "Epoch 20/20\n",
            "318/318 - 104s - 328ms/step - accuracy: 0.8857 - loss: 0.5578 - val_accuracy: 0.7235 - val_loss: 1.0886 - learning_rate: 1.1210e-05\n",
            "Training logs: {'accuracy': [0.7537946105003357, 0.8223930597305298, 0.8488073945045471, 0.8499901294708252, 0.858466386795044, 0.8681253790855408, 0.8736447691917419, 0.871673583984375, 0.8756160140037537, 0.8791642189025879, 0.878178596496582, 0.878178596496582, 0.8773900866508484, 0.8860634565353394, 0.881529688835144, 0.8846836090087891, 0.881529688835144, 0.8874433040618896, 0.8888232111930847, 0.8856692314147949], 'loss': [1.0456740856170654, 0.8313865661621094, 0.7522040605545044, 0.7350819110870361, 0.6988316774368286, 0.6729395389556885, 0.6525746583938599, 0.6331555843353271, 0.6251885890960693, 0.6093724966049194, 0.6131989359855652, 0.6084369421005249, 0.5977088809013367, 0.5841728448867798, 0.5771585702896118, 0.5750405192375183, 0.5684801340103149, 0.5626104474067688, 0.5569601655006409, 0.5577647686004639], 'val_accuracy': [0.7069510221481323, 0.5308057069778442, 0.6856240034103394, 0.6982622146606445, 0.6737756729125977, 0.711690366268158, 0.7077409029006958, 0.7266982793807983, 0.7180094718933105, 0.7180094718933105, 0.7172195911407471, 0.7235386967658997, 0.7195892333984375, 0.718799352645874, 0.7251184582710266, 0.7219589352607727, 0.7203791737556458, 0.7195892333984375, 0.7195892333984375, 0.7235386967658997], 'val_loss': [1.8701056241989136, 1.6799051761627197, 1.2132344245910645, 1.41959810256958, 1.5567301511764526, 1.8973826169967651, 1.2519135475158691, 1.1663790941238403, 1.080909013748169, 1.312064528465271, 1.2756905555725098, 1.0171918869018555, 1.1464018821716309, 1.2473331689834595, 0.982709527015686, 1.1273057460784912, 0.9693081974983215, 1.3031705617904663, 1.418426275253296, 1.0885649919509888], 'learning_rate': [9.999999747378752e-05, 9.999999747378752e-05, 9.999999747378752e-05, 9.999999747378752e-05, 9.999999747378752e-05, 6.999999459367245e-05, 6.299999222392216e-05, 5.6699991546338424e-05, 5.1029994210693985e-05, 4.5926994062028825e-05, 4.133429320063442e-05, 3.72008653357625e-05, 3.348077734699473e-05, 3.0132699976093136e-05, 2.7119429432787e-05, 2.4407487217104062e-05, 2.1966738131595775e-05, 1.977006468223408e-05, 1.779305785021279e-05, 1.1209625881747343e-05]}\n"
          ]
        }
      ]
    },
    {
      "cell_type": "code",
      "source": [
        "pipeline.evaluate_model()"
      ],
      "metadata": {
        "colab": {
          "base_uri": "https://localhost:8080/"
        },
        "id": "J9TXcfQVVDyP",
        "outputId": "266bbe2f-a4d6-4681-8f63-f64a922ca4e0"
      },
      "execution_count": 15,
      "outputs": [
        {
          "output_type": "stream",
          "name": "stdout",
          "text": [
            "\u001b[1m80/80\u001b[0m \u001b[32m━━━━━━━━━━━━━━━━━━━━\u001b[0m\u001b[37m\u001b[0m \u001b[1m19s\u001b[0m 222ms/step\n",
            "              precision    recall  f1-score   support\n",
            "\n",
            "           0       0.93      1.00      0.96       203\n",
            "           1       1.00      0.96      0.98       392\n",
            "           2       0.54      0.19      0.29       351\n",
            "           3       0.48      0.82      0.61       320\n",
            "\n",
            "    accuracy                           0.72      1266\n",
            "   macro avg       0.74      0.75      0.71      1266\n",
            "weighted avg       0.73      0.72      0.69      1266\n",
            "\n",
            "ROC-AUC Score: 0.9113571100392069\n"
          ]
        }
      ]
    },
    {
      "cell_type": "code",
      "source": [
        "pipeline.visualize_training()"
      ],
      "metadata": {
        "colab": {
          "base_uri": "https://localhost:8080/",
          "height": 395
        },
        "id": "Uh5JbS3fVEmV",
        "outputId": "72ac7b21-64d2-4562-c105-86ae7fbee158"
      },
      "execution_count": 16,
      "outputs": [
        {
          "output_type": "display_data",
          "data": {
            "text/plain": [
              "<Figure size 1200x500 with 2 Axes>"
            ],
            "image/png": "[encoded data removed]"
          },
          "metadata": {}
        }
      ]
    },
    {
      "cell_type": "code",
      "source": [
        "model_save_path = '/content/drive/MyDrive/Colab Notebooks/model_leukovision.keras'\n",
        "model_save_path = '/content/model_leukovision.keras'"
      ],
      "metadata": {
        "id": "uC6-CMZQ854p"
      },
      "execution_count": 17,
      "outputs": []
    },
    {
      "cell_type": "code",
      "source": [
        "pipeline.model.save('/content/model_leukovision.keras')"
      ],
      "metadata": {
        "id": "1EL55E6U89n5"
      },
      "execution_count": 19,
      "outputs": []
    },
    {
      "cell_type": "code",
      "source": [
        "import tensorflow as tf\n",
        "\n",
        "# Misalnya, Anda telah memiliki model yang disimpan sebagai .keras\n",
        "model_path = 'model_leukovision.keras'\n",
        "tflite_model_path = 'model_leukovision.tflite'\n",
        "\n",
        "# Muat model\n",
        "model = tf.keras.models.load_model(model_path)\n",
        "\n",
        "# Konversi model ke TensorFlow Lite\n",
        "converter = tf.lite.TFLiteConverter.from_keras_model(model)\n",
        "tflite_model = converter.convert()\n",
        "\n",
        "# Simpan model TFLite\n",
        "with open(tflite_model_path, 'wb') as f:\n",
        "    f.write(tflite_model)"
      ],
      "metadata": {
        "colab": {
          "base_uri": "https://localhost:8080/"
        },
        "id": "Ym0ZMOMO8_q5",
        "outputId": "ce40ea6a-e777-4987-b5af-a97d01381cca"
      },
      "execution_count": 20,
      "outputs": [
        {
          "output_type": "stream",
          "name": "stdout",
          "text": [
            "Saved artifact at '/tmp/tmp957v5_5d'. The following endpoints are available:\n",
            "\n",
            "* Endpoint 'serve'\n",
            "  args_0 (POSITIONAL_ONLY): TensorSpec(shape=(None, 224, 224, 3), dtype=tf.float32, name='input_layer')\n",
            "Output Type:\n",
            "  TensorSpec(shape=(None, 4), dtype=tf.float32, name=None)\n",
            "Captures:\n",
            "  138800021711408: TensorSpec(shape=(), dtype=tf.resource, name=None)\n",
            "  138800011728096: TensorSpec(shape=(), dtype=tf.resource, name=None)\n",
            "  138800011730208: TensorSpec(shape=(), dtype=tf.resource, name=None)\n",
            "  138800011723520: TensorSpec(shape=(), dtype=tf.resource, name=None)\n",
            "  138800011725808: TensorSpec(shape=(), dtype=tf.resource, name=None)\n",
            "  138800011734608: TensorSpec(shape=(), dtype=tf.resource, name=None)\n",
            "  138800011734784: TensorSpec(shape=(), dtype=tf.resource, name=None)\n",
            "  138800011735312: TensorSpec(shape=(), dtype=tf.resource, name=None)\n",
            "  138800011735840: TensorSpec(shape=(), dtype=tf.resource, name=None)\n",
            "  138800011738480: TensorSpec(shape=(), dtype=tf.resource, name=None)\n",
            "  138800011736016: TensorSpec(shape=(), dtype=tf.resource, name=None)\n",
            "  138800011479520: TensorSpec(shape=(), dtype=tf.resource, name=None)\n",
            "  138800011483920: TensorSpec(shape=(), dtype=tf.resource, name=None)\n",
            "  138800011480576: TensorSpec(shape=(), dtype=tf.resource, name=None)\n",
            "  138800011483216: TensorSpec(shape=(), dtype=tf.resource, name=None)\n",
            "  138800011487792: TensorSpec(shape=(), dtype=tf.resource, name=None)\n",
            "  138800011487968: TensorSpec(shape=(), dtype=tf.resource, name=None)\n",
            "  138800011492368: TensorSpec(shape=(), dtype=tf.resource, name=None)\n",
            "  138800011489024: TensorSpec(shape=(), dtype=tf.resource, name=None)\n",
            "  138800011491664: TensorSpec(shape=(), dtype=tf.resource, name=None)\n",
            "  138800011489200: TensorSpec(shape=(), dtype=tf.resource, name=None)\n",
            "  138800011988304: TensorSpec(shape=(), dtype=tf.resource, name=None)\n",
            "  138800011992704: TensorSpec(shape=(), dtype=tf.resource, name=None)\n",
            "  138800011987248: TensorSpec(shape=(), dtype=tf.resource, name=None)\n",
            "  138800011989712: TensorSpec(shape=(), dtype=tf.resource, name=None)\n",
            "  138800011993232: TensorSpec(shape=(), dtype=tf.resource, name=None)\n",
            "  138800011993408: TensorSpec(shape=(), dtype=tf.resource, name=None)\n",
            "  138800011997808: TensorSpec(shape=(), dtype=tf.resource, name=None)\n",
            "  138800011994992: TensorSpec(shape=(), dtype=tf.resource, name=None)\n",
            "  138800011996224: TensorSpec(shape=(), dtype=tf.resource, name=None)\n",
            "  138800011994288: TensorSpec(shape=(), dtype=tf.resource, name=None)\n",
            "  138800011431600: TensorSpec(shape=(), dtype=tf.resource, name=None)\n",
            "  138800011431952: TensorSpec(shape=(), dtype=tf.resource, name=None)\n",
            "  138800011429136: TensorSpec(shape=(), dtype=tf.resource, name=None)\n",
            "  138800011429840: TensorSpec(shape=(), dtype=tf.resource, name=None)\n",
            "  138800011435824: TensorSpec(shape=(), dtype=tf.resource, name=None)\n",
            "  138800011436000: TensorSpec(shape=(), dtype=tf.resource, name=None)\n",
            "  138800011440400: TensorSpec(shape=(), dtype=tf.resource, name=None)\n",
            "  138800011437056: TensorSpec(shape=(), dtype=tf.resource, name=None)\n",
            "  138800011439696: TensorSpec(shape=(), dtype=tf.resource, name=None)\n",
            "  138800011443744: TensorSpec(shape=(), dtype=tf.resource, name=None)\n",
            "  138800011675952: TensorSpec(shape=(), dtype=tf.resource, name=None)\n",
            "  138800011674544: TensorSpec(shape=(), dtype=tf.resource, name=None)\n",
            "  138800011674192: TensorSpec(shape=(), dtype=tf.resource, name=None)\n",
            "  138800011674896: TensorSpec(shape=(), dtype=tf.resource, name=None)\n",
            "  138800011679472: TensorSpec(shape=(), dtype=tf.resource, name=None)\n",
            "  138800011679648: TensorSpec(shape=(), dtype=tf.resource, name=None)\n",
            "  138800011684048: TensorSpec(shape=(), dtype=tf.resource, name=None)\n",
            "  138800011680704: TensorSpec(shape=(), dtype=tf.resource, name=None)\n",
            "  138800011683344: TensorSpec(shape=(), dtype=tf.resource, name=None)\n",
            "  138800011687392: TensorSpec(shape=(), dtype=tf.resource, name=None)\n",
            "  138800011688272: TensorSpec(shape=(), dtype=tf.resource, name=None)\n",
            "  138800011687216: TensorSpec(shape=(), dtype=tf.resource, name=None)\n",
            "  138800011689504: TensorSpec(shape=(), dtype=tf.resource, name=None)\n",
            "  138800011687920: TensorSpec(shape=(), dtype=tf.resource, name=None)\n",
            "  138800011613232: TensorSpec(shape=(), dtype=tf.resource, name=None)\n",
            "  138800011613408: TensorSpec(shape=(), dtype=tf.resource, name=None)\n",
            "  138800011617808: TensorSpec(shape=(), dtype=tf.resource, name=None)\n",
            "  138800011614464: TensorSpec(shape=(), dtype=tf.resource, name=None)\n",
            "  138800011617104: TensorSpec(shape=(), dtype=tf.resource, name=None)\n",
            "  138800011620272: TensorSpec(shape=(), dtype=tf.resource, name=None)\n",
            "  138800011620448: TensorSpec(shape=(), dtype=tf.resource, name=None)\n",
            "  138800011620976: TensorSpec(shape=(), dtype=tf.resource, name=None)\n",
            "  138800011622208: TensorSpec(shape=(), dtype=tf.resource, name=None)\n",
            "  138800011623440: TensorSpec(shape=(), dtype=tf.resource, name=None)\n",
            "  138800011622384: TensorSpec(shape=(), dtype=tf.resource, name=None)\n",
            "  138800011743248: TensorSpec(shape=(), dtype=tf.resource, name=None)\n",
            "  138800011745536: TensorSpec(shape=(), dtype=tf.resource, name=None)\n",
            "  138800011744832: TensorSpec(shape=(), dtype=tf.resource, name=None)\n",
            "  138800011745888: TensorSpec(shape=(), dtype=tf.resource, name=None)\n",
            "  138800011748352: TensorSpec(shape=(), dtype=tf.resource, name=None)\n",
            "  138800011748528: TensorSpec(shape=(), dtype=tf.resource, name=None)\n",
            "  138800011752928: TensorSpec(shape=(), dtype=tf.resource, name=None)\n",
            "  138800011750640: TensorSpec(shape=(), dtype=tf.resource, name=None)\n",
            "  138800011753632: TensorSpec(shape=(), dtype=tf.resource, name=None)\n",
            "  138800011750464: TensorSpec(shape=(), dtype=tf.resource, name=None)\n",
            "  138800012215392: TensorSpec(shape=(), dtype=tf.resource, name=None)\n",
            "  138800012219792: TensorSpec(shape=(), dtype=tf.resource, name=None)\n",
            "  138800012216448: TensorSpec(shape=(), dtype=tf.resource, name=None)\n",
            "  138800012219088: TensorSpec(shape=(), dtype=tf.resource, name=None)\n",
            "  138800012222256: TensorSpec(shape=(), dtype=tf.resource, name=None)\n",
            "  138800012222432: TensorSpec(shape=(), dtype=tf.resource, name=None)\n",
            "  138800012226832: TensorSpec(shape=(), dtype=tf.resource, name=None)\n",
            "  138800012223488: TensorSpec(shape=(), dtype=tf.resource, name=None)\n",
            "  138800012226128: TensorSpec(shape=(), dtype=tf.resource, name=None)\n",
            "  138800012230176: TensorSpec(shape=(), dtype=tf.resource, name=None)\n",
            "  138800012314928: TensorSpec(shape=(), dtype=tf.resource, name=None)\n",
            "  138800012313520: TensorSpec(shape=(), dtype=tf.resource, name=None)\n",
            "  138800012313168: TensorSpec(shape=(), dtype=tf.resource, name=None)\n",
            "  138800012313872: TensorSpec(shape=(), dtype=tf.resource, name=None)\n",
            "  138800012318448: TensorSpec(shape=(), dtype=tf.resource, name=None)\n",
            "  138800012318624: TensorSpec(shape=(), dtype=tf.resource, name=None)\n",
            "  138800012323024: TensorSpec(shape=(), dtype=tf.resource, name=None)\n",
            "  138800012319680: TensorSpec(shape=(), dtype=tf.resource, name=None)\n",
            "  138800012322320: TensorSpec(shape=(), dtype=tf.resource, name=None)\n",
            "  138800012326368: TensorSpec(shape=(), dtype=tf.resource, name=None)\n",
            "  138800012327248: TensorSpec(shape=(), dtype=tf.resource, name=None)\n",
            "  138800012326192: TensorSpec(shape=(), dtype=tf.resource, name=None)\n",
            "  138800012328480: TensorSpec(shape=(), dtype=tf.resource, name=None)\n",
            "  138800012326896: TensorSpec(shape=(), dtype=tf.resource, name=None)\n",
            "  138800012381872: TensorSpec(shape=(), dtype=tf.resource, name=None)\n",
            "  138800012382048: TensorSpec(shape=(), dtype=tf.resource, name=None)\n",
            "  138800012386448: TensorSpec(shape=(), dtype=tf.resource, name=None)\n",
            "  138800012383104: TensorSpec(shape=(), dtype=tf.resource, name=None)\n",
            "  138800012385744: TensorSpec(shape=(), dtype=tf.resource, name=None)\n",
            "  138800012388912: TensorSpec(shape=(), dtype=tf.resource, name=None)\n",
            "  138800012389088: TensorSpec(shape=(), dtype=tf.resource, name=None)\n",
            "  138800012393488: TensorSpec(shape=(), dtype=tf.resource, name=None)\n",
            "  138800012390144: TensorSpec(shape=(), dtype=tf.resource, name=None)\n",
            "  138800012392784: TensorSpec(shape=(), dtype=tf.resource, name=None)\n",
            "  138800012390320: TensorSpec(shape=(), dtype=tf.resource, name=None)\n",
            "  138800010413856: TensorSpec(shape=(), dtype=tf.resource, name=None)\n",
            "  138800010418256: TensorSpec(shape=(), dtype=tf.resource, name=None)\n",
            "  138800010414912: TensorSpec(shape=(), dtype=tf.resource, name=None)\n",
            "  138800010417552: TensorSpec(shape=(), dtype=tf.resource, name=None)\n",
            "  138800010422128: TensorSpec(shape=(), dtype=tf.resource, name=None)\n",
            "  138800010422304: TensorSpec(shape=(), dtype=tf.resource, name=None)\n",
            "  138800010426704: TensorSpec(shape=(), dtype=tf.resource, name=None)\n",
            "  138800010423360: TensorSpec(shape=(), dtype=tf.resource, name=None)\n",
            "  138800010426000: TensorSpec(shape=(), dtype=tf.resource, name=None)\n",
            "  138800010423536: TensorSpec(shape=(), dtype=tf.resource, name=None)\n",
            "  138800010560608: TensorSpec(shape=(), dtype=tf.resource, name=None)\n",
            "  138800010565008: TensorSpec(shape=(), dtype=tf.resource, name=None)\n",
            "  138800010561664: TensorSpec(shape=(), dtype=tf.resource, name=None)\n",
            "  138800010564304: TensorSpec(shape=(), dtype=tf.resource, name=None)\n",
            "  138800010567472: TensorSpec(shape=(), dtype=tf.resource, name=None)\n",
            "  138800010567648: TensorSpec(shape=(), dtype=tf.resource, name=None)\n",
            "  138800010572048: TensorSpec(shape=(), dtype=tf.resource, name=None)\n",
            "  138800010568704: TensorSpec(shape=(), dtype=tf.resource, name=None)\n",
            "  138800010571344: TensorSpec(shape=(), dtype=tf.resource, name=None)\n",
            "  138800010575392: TensorSpec(shape=(), dtype=tf.resource, name=None)\n",
            "  138800010610992: TensorSpec(shape=(), dtype=tf.resource, name=None)\n",
            "  138800010609584: TensorSpec(shape=(), dtype=tf.resource, name=None)\n",
            "  138800010609232: TensorSpec(shape=(), dtype=tf.resource, name=None)\n",
            "  138800010609936: TensorSpec(shape=(), dtype=tf.resource, name=None)\n",
            "  138800010616448: TensorSpec(shape=(), dtype=tf.resource, name=None)\n",
            "  138800010616976: TensorSpec(shape=(), dtype=tf.resource, name=None)\n",
            "  138800010614688: TensorSpec(shape=(), dtype=tf.resource, name=None)\n",
            "  138800010621024: TensorSpec(shape=(), dtype=tf.resource, name=None)\n",
            "  138800010618384: TensorSpec(shape=(), dtype=tf.resource, name=None)\n",
            "  138800010617856: TensorSpec(shape=(), dtype=tf.resource, name=None)\n",
            "  138800010621728: TensorSpec(shape=(), dtype=tf.resource, name=None)\n",
            "  138800010624368: TensorSpec(shape=(), dtype=tf.resource, name=None)\n"
          ]
        }
      ]
    },
    {
      "cell_type": "code",
      "source": [
        "import tensorflow as tf\n",
        "\n",
        "# Tentukan path ke file model .tflite\n",
        "tflite_model_path = 'model_leukovision.tflite'\n",
        "\n",
        "# Muat model .tflite menggunakan Interpreter\n",
        "interpreter = tf.lite.Interpreter(model_path=tflite_model_path)\n",
        "\n",
        "# Alokasikan memori untuk model\n",
        "interpreter.allocate_tensors()\n",
        "\n",
        "# Menampilkan info tentang tensor yang ada di dalam model\n",
        "input_details = interpreter.get_input_details()\n",
        "output_details = interpreter.get_output_details()\n",
        "\n",
        "print(\"Input Details:\", input_details)\n",
        "print(\"Output Details:\", output_details)\n",
        "\n",
        "# Jika tidak ada error, model telah berhasil diimpor\n",
        "print(\"Model TensorFlow Lite berhasil dimuat!\")"
      ],
      "metadata": {
        "colab": {
          "base_uri": "https://localhost:8080/"
        },
        "id": "2HNyLayEXo8z",
        "outputId": "703b27cc-43a2-4b25-9687-3c2ca22380f7"
      },
      "execution_count": 21,
      "outputs": [
        {
          "output_type": "stream",
          "name": "stdout",
          "text": [
            "Input Details: [{'name': 'serving_default_input_layer:0', 'index': 0, 'shape': array([  1, 224, 224,   3], dtype=int32), 'shape_signature': array([ -1, 224, 224,   3], dtype=int32), 'dtype': <class 'numpy.float32'>, 'quantization': (0.0, 0), 'quantization_parameters': {'scales': array([], dtype=float32), 'zero_points': array([], dtype=int32), 'quantized_dimension': 0}, 'sparsity_parameters': {}}]\n",
            "Output Details: [{'name': 'StatefulPartitionedCall_1:0', 'index': 95, 'shape': array([1, 4], dtype=int32), 'shape_signature': array([-1,  4], dtype=int32), 'dtype': <class 'numpy.float32'>, 'quantization': (0.0, 0), 'quantization_parameters': {'scales': array([], dtype=float32), 'zero_points': array([], dtype=int32), 'quantized_dimension': 0}, 'sparsity_parameters': {}}]\n",
            "Model TensorFlow Lite berhasil dimuat!\n"
          ]
        }
      ]
    },
    {
      "cell_type": "code",
      "source": [
        "from google.colab import files\n",
        "\n",
        "# Tentukan path file model .keras\n",
        "model_path = '/content/model_leukovision.keras'\n",
        "\n",
        "# Mendownload file model ke komputer lokal Anda\n",
        "files.download(model_path)"
      ],
      "metadata": {
        "colab": {
          "base_uri": "https://localhost:8080/",
          "height": 37
        },
        "id": "eewG9OMLVUpI",
        "outputId": "ef92b866-2306-46fa-f777-18e76514c3b8"
      },
      "execution_count": 22,
      "outputs": [
        {
          "output_type": "display_data",
          "data": {
            "text/plain": [
              "<IPython.core.display.Javascript object>"
            ],
            "application/javascript": [
              "\n",
              "    async function download(id, filename, size) {\n",
              "      if (!google.colab.kernel.accessAllowed) {\n",
              "        return;\n",
              "      }\n",
              "      const div = document.createElement('div');\n",
              "      const label = document.createElement('label');\n",
              "      label.textContent = `Downloading \"${filename}\": `;\n",
              "      div.appendChild(label);\n",
              "      const progress = document.createElement('progress');\n",
              "      progress.max = size;\n",
              "      div.appendChild(progress);\n",
              "      document.body.appendChild(div);\n",
              "\n",
              "      const buffers = [];\n",
              "      let downloaded = 0;\n",
              "\n",
              "      const channel = await google.colab.kernel.comms.open(id);\n",
              "      // Send a message to notify the kernel that we're ready.\n",
              "      channel.send({})\n",
              "\n",
              "      for await (const message of channel.messages) {\n",
              "        // Send a message to notify the kernel that we're ready.\n",
              "        channel.send({})\n",
              "        if (message.buffers) {\n",
              "          for (const buffer of message.buffers) {\n",
              "            buffers.push(buffer);\n",
              "            downloaded += buffer.byteLength;\n",
              "            progress.value = downloaded;\n",
              "          }\n",
              "        }\n",
              "      }\n",
              "      const blob = new Blob(buffers, {type: 'application/binary'});\n",
              "      const a = document.createElement('a');\n",
              "      a.href = window.URL.createObjectURL(blob);\n",
              "      a.download = filename;\n",
              "      div.appendChild(a);\n",
              "      a.click();\n",
              "      div.remove();\n",
              "    }\n",
              "  "
            ]
          },
          "metadata": {}
        },
        {
          "output_type": "display_data",
          "data": {
            "text/plain": [
              "<IPython.core.display.Javascript object>"
            ],
            "application/javascript": [
              "download(\"download_3a87a182-3516-44ee-8629-92b2e2b6e2b5\", \"model_leukovision.keras\", 29119196)"
            ]
          },
          "metadata": {}
        }
      ]
    },
    {
      "cell_type": "code",
      "source": [
        "from google.colab import files\n",
        "\n",
        "# Tentukan path model TensorFlow Lite\n",
        "tflite_model_path = '/content/model_leukovision.tflite'\n",
        "\n",
        "# Mengunduh model ke komputer lokal Anda\n",
        "files.download(tflite_model_path)"
      ],
      "metadata": {
        "colab": {
          "base_uri": "https://localhost:8080/",
          "height": 37
        },
        "id": "MlfVXITIX-B4",
        "outputId": "09fe9e0d-cf73-4439-a6a0-752e8a3d7cc8"
      },
      "execution_count": 23,
      "outputs": [
        {
          "output_type": "display_data",
          "data": {
            "text/plain": [
              "<IPython.core.display.Javascript object>"
            ],
            "application/javascript": [
              "\n",
              "    async function download(id, filename, size) {\n",
              "      if (!google.colab.kernel.accessAllowed) {\n",
              "        return;\n",
              "      }\n",
              "      const div = document.createElement('div');\n",
              "      const label = document.createElement('label');\n",
              "      label.textContent = `Downloading \"${filename}\": `;\n",
              "      div.appendChild(label);\n",
              "      const progress = document.createElement('progress');\n",
              "      progress.max = size;\n",
              "      div.appendChild(progress);\n",
              "      document.body.appendChild(div);\n",
              "\n",
              "      const buffers = [];\n",
              "      let downloaded = 0;\n",
              "\n",
              "      const channel = await google.colab.kernel.comms.open(id);\n",
              "      // Send a message to notify the kernel that we're ready.\n",
              "      channel.send({})\n",
              "\n",
              "      for await (const message of channel.messages) {\n",
              "        // Send a message to notify the kernel that we're ready.\n",
              "        channel.send({})\n",
              "        if (message.buffers) {\n",
              "          for (const buffer of message.buffers) {\n",
              "            buffers.push(buffer);\n",
              "            downloaded += buffer.byteLength;\n",
              "            progress.value = downloaded;\n",
              "          }\n",
              "        }\n",
              "      }\n",
              "      const blob = new Blob(buffers, {type: 'application/binary'});\n",
              "      const a = document.createElement('a');\n",
              "      a.href = window.URL.createObjectURL(blob);\n",
              "      a.download = filename;\n",
              "      div.appendChild(a);\n",
              "      a.click();\n",
              "      div.remove();\n",
              "    }\n",
              "  "
            ]
          },
          "metadata": {}
        },
        {
          "output_type": "display_data",
          "data": {
            "text/plain": [
              "<IPython.core.display.Javascript object>"
            ],
            "application/javascript": [
              "download(\"download_3ff8a9b3-2a1a-44d5-a43c-76bf541fc174\", \"model_leukovision.tflite\", 13855284)"
            ]
          },
          "metadata": {}
        }
      ]
    }
  ],
  "metadata": {
    "accelerator": "GPU",
    "colab": {
      "gpuType": "T4",
      "provenance": []
    },
    "kernelspec": {
      "display_name": "Python 3",
      "name": "python3"
    },
    "language_info": {
      "codemirror_mode": {
        "name": "ipython",
        "version": 3
      },
      "file_extension": ".py",
      "mimetype": "text/x-python",
      "name": "python",
      "nbconvert_exporter": "python",
      "pygments_lexer": "ipython3",
      "version": "3.12.7"
    }
  },
  "nbformat": 4,
  "nbformat_minor": 0
}
